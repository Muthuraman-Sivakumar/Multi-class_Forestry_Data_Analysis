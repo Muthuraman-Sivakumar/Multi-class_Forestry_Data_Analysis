{
 "cells": [
  {
   "cell_type": "markdown",
   "id": "bf0d7727",
   "metadata": {},
   "source": [
    "##### **Class Distributions**"
   ]
  },
  {
   "cell_type": "code",
   "execution_count": null,
   "id": "7d1201f6",
   "metadata": {},
   "outputs": [],
   "source": [
    "from helper import dataset\n",
    "import pandas as pd\n",
    "\n",
    "import seaborn as sns\n",
    "import matplotlib.pyplot as plt\n",
    "import numpy as np\n",
    "\n",
    "d = dataset()\n",
    "df = d.get_training()\n",
    "\n",
    "print(df.head())  # Display the first few rows of the DataFrame\n",
    "\n",
    "df.to_csv('cover_type.csv', index=False) # enable Data Wrangler's initial analysis\n"
   ]
  },
  {
   "cell_type": "code",
   "execution_count": null,
   "id": "54e487f4",
   "metadata": {},
   "outputs": [],
   "source": [
    "# Set up the plot style\n",
    "plt.figure(figsize=(12, 6))\n",
    "sns.set_style(\"whitegrid\")\n",
    "\n",
    "# Count the classes\n",
    "class_counts = df['Cover_Type'].value_counts().sort_index()\n",
    "total_samples = len(df)\n",
    "\n",
    "# Create the histogram\n",
    "ax = sns.countplot(data=df, x='Cover_Type', hue='Cover_Type', order=sorted(df['Cover_Type'].unique()), palette='viridis', legend=False)\n",
    "\n",
    "# Add count and percentage labels on top of each bar\n",
    "for i, (class_type, count) in enumerate(class_counts.items()):\n",
    "        percentage = (count / total_samples) * 100\n",
    "        ax.text(i, count + 100, f'{count:,}\\n({percentage:.1f}%)', \n",
    "                ha='center', va='bottom', fontsize=10, fontweight='bold')\n",
    "\n",
    "# Customize the plot\n",
    "plt.title('Cover Type Distribution - Class Imbalance Analysis', fontsize=16, fontweight='bold', pad=20)\n",
    "plt.xlabel('Cover Type (Class)', fontsize=12)\n",
    "plt.ylabel('Number of Samples', fontsize=12)\n",
    "plt.xticks(rotation=0)\n",
    "\n",
    "# Add total samples info\n",
    "plt.figtext(0.02, 0.02, f'Total Samples: {total_samples:,}', fontsize=10, style='italic')\n",
    "\n",
    "# Show the plot\n",
    "plt.tight_layout()\n",
    "plt.show()\n",
    "\n",
    "# Print detailed statistics\n",
    "print(\"Class Distribution Summary:\")\n",
    "print(\"=\" * 40)\n",
    "for class_type in sorted(df['Cover_Type'].unique()):\n",
    "        count = class_counts[class_type]\n",
    "        percentage = (count / total_samples) * 100\n",
    "        print(f\"Cover Type {class_type}: {count:,} samples ({percentage:.2f}%)\")\n",
    "\n",
    "print(f\"\\nTotal Samples: {total_samples:,}\")\n",
    "print(f\"Number of Classes: {len(class_counts)}\")\n"
   ]
  }
 ],
 "metadata": {
  "kernelspec": {
   "display_name": ".venv",
   "language": "python",
   "name": "python3"
  },
  "language_info": {
   "codemirror_mode": {
    "name": "ipython",
    "version": 3
   },
   "file_extension": ".py",
   "mimetype": "text/x-python",
   "name": "python",
   "nbconvert_exporter": "python",
   "pygments_lexer": "ipython3",
   "version": "3.11.9"
  }
 },
 "nbformat": 4,
 "nbformat_minor": 5
}
